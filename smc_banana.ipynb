{
 "cells": [
  {
   "cell_type": "code",
   "execution_count": 5,
   "id": "95637c9b",
   "metadata": {},
   "outputs": [],
   "source": [
    "import numpy as np \n",
    "from scipy.stats import multivariate_normal\n",
    "import matplotlib.pyplot as plt\n"
   ]
  },
  {
   "cell_type": "code",
   "execution_count": 6,
   "id": "2df2e007",
   "metadata": {},
   "outputs": [
    {
     "data": {
      "text/plain": [
       "'Test of the SMC sampler on the banana distribution. The M-Kernel is a simple Metropolis step. L-Kernel is chosen as the time reversal of M so \\nthe weights reduce to the simple ratio. The tempering schedule is a simple linear schedule 0<beta<1. \\nNote that due to the invariance of M the weights depend only on the old particles.'"
      ]
     },
     "execution_count": 6,
     "metadata": {},
     "output_type": "execute_result"
    }
   ],
   "source": [
    "'''Test of the SMC sampler on the banana distribution. The M-Kernel is a simple Metropolis step. L-Kernel is chosen as the time reversal of M so \n",
    "the weights reduce to the simple ratio. The tempering schedule is a simple linear schedule 0<beta<1. \n",
    "Note that due to the invariance of M the weights depend only on the old particles.'''"
   ]
  },
  {
   "cell_type": "code",
   "execution_count": 7,
   "id": "d7bf10d2",
   "metadata": {},
   "outputs": [],
   "source": [
    "rng = np.random.default_rng()\n",
    "\n",
    "b = 5\n",
    "sigma = 1\n",
    "def log_P(X:np.array):\n",
    "    return (-(X[...,0]**2 + (X[...,1]- b * (X[...,0]**2 - sigma**2)))**2)/2\n",
    "\n",
    "##Define the sequence of intermediate targets\n",
    "beta_t = np.linspace(0,1,20)\n"
   ]
  },
  {
   "cell_type": "code",
   "execution_count": 8,
   "id": "88fe861b",
   "metadata": {},
   "outputs": [
    {
     "name": "stdout",
     "output_type": "stream",
     "text": [
      "Time step: 0\n",
      "Time step: 1\n",
      "Time step: 2\n",
      "Time step: 3\n",
      "Time step: 4\n",
      "Time step: 5\n",
      "Time step: 6\n",
      "Time step: 7\n",
      "Time step: 8\n",
      "Time step: 9\n",
      "Time step: 10\n",
      "Time step: 11\n",
      "Time step: 12\n",
      "Time step: 13\n",
      "Time step: 14\n",
      "Time step: 15\n",
      "Time step: 16\n",
      "Time step: 17\n",
      "Time step: 18\n"
     ]
    }
   ],
   "source": [
    "##Algorithm\n",
    "\n",
    "#Initial proposal particles\n",
    "N = 10000\n",
    "particles = rng.multivariate_normal(np.array([0,0]),5 * np.eye(2),size = (N,))\n",
    "weights = 1/N * np.ones(N)\n",
    "\n",
    "beta_t1 = 0\n",
    "for t,beta in enumerate(beta_t[1:]):\n",
    "    print(f\"Time step: {t}\")\n",
    "\n",
    "    #Resampling step\n",
    "    indices = rng.choice(np.arange(N),size = N,replace = True, p = weights)\n",
    "    particles = particles[indices,:]\n",
    "\n",
    "    old_particles = particles.copy()\n",
    "    \n",
    "    sub_steps = 20\n",
    "    scale_param = 1.0\n",
    "    #Mutation/M-Kernel step\n",
    "    #MCMC step targeting the intermediate distribution of interest P**beta\n",
    "    for step in range(sub_steps):\n",
    "        for p in particles: \n",
    "            proposal = p + scale_param * rng.multivariate_normal(np.zeros(2),np.eye(2))\n",
    "            A = beta * log_P(proposal) - beta * log_P(p)\n",
    "            if(A >= 0):\n",
    "                p = proposal \n",
    "            else: \n",
    "                u = rng.uniform(0.,1.)\n",
    "                if(np.log(u) < A): \n",
    "                    p = proposal\n",
    "\n",
    "    \n",
    "    #Compute weights\n",
    "    #weights = (beta * log_P(old_particles))-(beta_t1 * log_P(old_particles))\n",
    "    weights = log_P(old_particles)\n",
    "    \n",
    "    # #Normalize weights\n",
    "    weights = np.exp(weights)\n",
    "    weights /= np.sum(weights)\n",
    "\n",
    "    # #Track the previous beta\n",
    "    beta_t1 = beta"
   ]
  },
  {
   "cell_type": "code",
   "execution_count": 9,
   "id": "cbbc9045",
   "metadata": {},
   "outputs": [
    {
     "name": "stdout",
     "output_type": "stream",
     "text": [
      "Estimate of the mean: [ 0.06450071 -0.682646  ]\n",
      "Estimate of the Cov: [[ 1.06903346 -0.12781196]\n",
      " [-0.12781196  4.84956669]]\n"
     ]
    }
   ],
   "source": [
    "indices = rng.choice(np.arange(N),size = N,replace = True, p = weights)\n",
    "particles = particles[indices,:]\n",
    "\n",
    "mean_estimate = np.mean(particles,axis = 0)\n",
    "cov_estimate = np.cov(particles.T)\n",
    "\n",
    "print(f\"Estimate of the mean: {mean_estimate}\")\n",
    "print(f\"Estimate of the Cov: {cov_estimate}\")"
   ]
  },
  {
   "cell_type": "code",
   "execution_count": 10,
   "id": "764712bd",
   "metadata": {},
   "outputs": [
    {
     "data": {
      "text/plain": [
       "<matplotlib.collections.PathCollection at 0x7fc4261e3c50>"
      ]
     },
     "execution_count": 10,
     "metadata": {},
     "output_type": "execute_result"
    },
    {
     "data": {
      "image/png": "[encoded data removed]",
      "text/plain": [
       "<Figure size 640x480 with 1 Axes>"
      ]
     },
     "metadata": {},
     "output_type": "display_data"
    }
   ],
   "source": [
    "plt.title('Samples from the Banana Distribution')\n",
    "plt.xlabel('X')\n",
    "plt.ylabel('Y')\n",
    "\n",
    "plt.scatter(particles[:,0],particles[:,1],s = 0.1)"
   ]
  }
 ],
 "metadata": {
  "kernelspec": {
   "display_name": ".venv",
   "language": "python",
   "name": "python3"
  },
  "language_info": {
   "codemirror_mode": {
    "name": "ipython",
    "version": 3
   },
   "file_extension": ".py",
   "mimetype": "text/x-python",
   "name": "python",
   "nbconvert_exporter": "python",
   "pygments_lexer": "ipython3",
   "version": "3.12.3"
  }
 },
 "nbformat": 4,
 "nbformat_minor": 5
}
