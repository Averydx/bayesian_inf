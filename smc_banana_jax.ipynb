{
 "cells": [
  {
   "cell_type": "code",
   "execution_count": 1,
   "id": "95637c9b",
   "metadata": {},
   "outputs": [],
   "source": [
    "import numpy as np \n",
    "from scipy.stats import multivariate_normal\n",
    "import matplotlib.pyplot as plt\n",
    "\n",
    "import jax.numpy as jnp\n",
    "import jax"
   ]
  },
  {
   "cell_type": "code",
   "execution_count": null,
   "id": "ee6a79fb",
   "metadata": {},
   "outputs": [],
   "source": [
    "'''Jax implementation of the SMC sampler. Currently bugged. '''"
   ]
  },
  {
   "cell_type": "code",
   "execution_count": 2,
   "id": "d7bf10d2",
   "metadata": {},
   "outputs": [
    {
     "name": "stderr",
     "output_type": "stream",
     "text": [
      "WARNING:2025-10-27 11:19:26,082:jax._src.xla_bridge:850: An NVIDIA GPU may be present on this machine, but a CUDA-enabled jaxlib is not installed. Falling back to cpu.\n"
     ]
    }
   ],
   "source": [
    "rng_key = jax.random.PRNGKey(1)\n",
    "\n",
    "b = 5\n",
    "sigma = 1\n",
    "\n",
    "@jax.jit\n",
    "def P(X):\n",
    "    return jnp.exp(-(X[...,0]**2 + (X[...,1]- b * (X[...,0]**2 - sigma**2)))**2)/2\n",
    "\n",
    "##Define the sequence of intermediate targets\n",
    "beta_t = jnp.linspace(0,1,50)\n"
   ]
  },
  {
   "cell_type": "code",
   "execution_count": 3,
   "id": "9e832e1d",
   "metadata": {},
   "outputs": [],
   "source": [
    "@jax.jit\n",
    "def log_jacob(weights): \n",
    "\n",
    "    #Counter and the carry value from previous iteration\n",
    "    def scan_body(carry,i): \n",
    "        inter = jnp.max(jnp.array([weights[i],carry])) + jnp.log(1 + jnp.exp(-1 * jnp.abs(carry - weights[i])))\n",
    "        return (inter,inter)\n",
    "\n",
    "    #Index array to scan over\n",
    "    xs = jnp.arange(1,weights.shape[0],dtype = jnp.int32)\n",
    "\n",
    "    #body function, scan array, init_carry\n",
    "    final,stack = jax.lax.scan(scan_body,jnp.float32(weights[0]),xs)\n",
    "\n",
    "    return final,stack"
   ]
  },
  {
   "cell_type": "code",
   "execution_count": 4,
   "id": "e150fa04",
   "metadata": {},
   "outputs": [],
   "source": [
    "@jax.jit\n",
    "def resampling(key,weights): \n",
    "    #Compute cdf\n",
    "    cdf = jnp.cumsum(weights)\n",
    "\n",
    "    #Draw the random number\n",
    "    u_key,key = jax.random.split(key)\n",
    "    u = jax.random.uniform(key = u_key,minval = 0.,maxval = 1/weights.shape[0])\n",
    "\n",
    "    #j is the outer loop index over the particles, i is the inner loop index that gives the element in the array to resample\n",
    "    def scan_body(i,j): \n",
    "        u_j = u + (j/weights.shape[0]) #Jth spoke offset\n",
    "\n",
    "        #Terminates the inner while loop if i less than num particles and u_j greater than cdf_log[i] \n",
    "        def cond_fun(loop_vars): \n",
    "            i, _ = loop_vars \n",
    "            return jnp.logical_and(i < weights.shape[0],u_j > cdf[i])\n",
    "        \n",
    "        #Increment the i counter\n",
    "        def body_fun(loop_vars): \n",
    "            i,_ = loop_vars\n",
    "            return (i + 1, i)\n",
    "        \n",
    "        #The inner loop\n",
    "        i,_ = jax.lax.while_loop(cond_fun, body_fun, (i,i))\n",
    "\n",
    "        return i, i \n",
    "    \n",
    "    _, indices = jax.lax.scan(scan_body,0, jnp.arange(weights.shape[0],dtype = jnp.int32))\n",
    "\n",
    "    return indices"
   ]
  },
  {
   "cell_type": "code",
   "execution_count": 5,
   "id": "88fe861b",
   "metadata": {},
   "outputs": [],
   "source": [
    "##Algorithm\n",
    "\n",
    "#Initial proposal particles\n",
    "\n",
    "rng_key,init_key = jax.random.split(rng_key)\n",
    "\n",
    "N = 100000\n",
    "particles = jax.random.multivariate_normal(init_key, jnp.array([0,0]),jnp.eye(2),shape = (N,))\n",
    "\n",
    "weights = jnp.full((N,),1/N,dtype = jnp.float32)\n",
    "\n",
    "beta_t1 = 0\n",
    "for t,beta in enumerate(beta_t[1:]):\n",
    "\n",
    "    #Resampling step\n",
    "    rng_key,resample_key = jax.random.split(rng_key)\n",
    "\n",
    "    indices = resampling(resample_key, weights)\n",
    "\n",
    "    new_particles = particles[indices,:]\n",
    "    \n",
    "    #Mutation/M-Kernel step\n",
    "    rng_key,mutation_key = jax.random.split(rng_key)\n",
    "    new_particles = new_particles + jax.random.multivariate_normal(mutation_key,mean = jnp.zeros(2),cov = jnp.eye(2),shape = (N,))\n",
    "    \n",
    "    #Compute weights\n",
    "    weights = (P(new_particles)**beta)/(P(particles)**beta_t1)\n",
    "\n",
    "    particles = new_particles\n",
    "\n",
    "    # #Normalize weights\n",
    "    weights = weights / jnp.sum(weights)\n",
    "\n",
    "    # #Track the previous beta\n",
    "    beta_t1 = beta"
   ]
  },
  {
   "cell_type": "code",
   "execution_count": 6,
   "id": "cbbc9045",
   "metadata": {},
   "outputs": [
    {
     "name": "stdout",
     "output_type": "stream",
     "text": [
      "Estimate of the mean: [-1.5828512 -8.553694 ]\n",
      "Estimate of the Cov: [[0. 0.]\n",
      " [0. 0.]]\n"
     ]
    }
   ],
   "source": [
    "#final reweighting \n",
    "\n",
    "rng_key,resample_key = jax.random.split(rng_key)\n",
    "\n",
    "indices = resampling(resample_key,weights)\n",
    "particles = particles[indices,:]\n",
    "\n",
    "mean_estimate = np.mean(particles,axis = 0)\n",
    "cov_estimate = np.cov(particles.T)\n",
    "\n",
    "print(f\"Estimate of the mean: {mean_estimate}\")\n",
    "print(f\"Estimate of the Cov: {cov_estimate}\")\n"
   ]
  },
  {
   "cell_type": "code",
   "execution_count": 7,
   "id": "764712bd",
   "metadata": {},
   "outputs": [
    {
     "data": {
      "text/plain": [
       "<matplotlib.collections.PathCollection at 0x7882380c66f0>"
      ]
     },
     "execution_count": 7,
     "metadata": {},
     "output_type": "execute_result"
    },
    {
     "data": {
      "image/png": "[encoded data removed]",
      "text/plain": [
       "<Figure size 640x480 with 1 Axes>"
      ]
     },
     "metadata": {},
     "output_type": "display_data"
    }
   ],
   "source": [
    "plt.title('Samples from the Banana Distribution')\n",
    "plt.xlabel('X')\n",
    "plt.ylabel('Y')\n",
    "\n",
    "plt.scatter(particles[:,0],particles[:,1],s = 0.1)"
   ]
  }
 ],
 "metadata": {
  "kernelspec": {
   "display_name": ".venv",
   "language": "python",
   "name": "python3"
  },
  "language_info": {
   "codemirror_mode": {
    "name": "ipython",
    "version": 3
   },
   "file_extension": ".py",
   "mimetype": "text/x-python",
   "name": "python",
   "nbconvert_exporter": "python",
   "pygments_lexer": "ipython3",
   "version": "3.12.3"
  }
 },
 "nbformat": 4,
 "nbformat_minor": 5
}
